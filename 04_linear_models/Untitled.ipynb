{
 "cells": [
  {
   "cell_type": "markdown",
   "id": "82622657",
   "metadata": {},
   "source": [
    "# Linear models\n",
    "\n",
    "In this notebook, we introduce in depth a family of machine learning model called linear models.\n",
    "\n",
    "## Which part of the model is linear?\n",
    "\n",
    "As we previously discussed, a predictive model is a mathematical function $f$ that given a matrix of feature $X$ provides some predictions $\\hat{y}$. Formally, we have $\\hat{y}= f(X)$. Linear models define a certain type of functions $f$:\n",
    "\n",
    "$$\n",
    "f{X} = \\beta X \\\\\n",
    "f{X} = a_0 + a_1 X_1 + a_2 X_2 + \\dots + a_n X_n\n",
    "$$\n",
    "\n",
    "In other words, a linear model is a function that linearly combined the features of the matrix $X$ to provide a prediction $y$. Let's take a simple regression example with a single feature."
   ]
  },
  {
   "cell_type": "code",
   "execution_count": null,
   "id": "7303807e",
   "metadata": {},
   "outputs": [],
   "source": [
    "import pandas as pd\n",
    "\n",
    "data = pd.read_csv(\"datasets/penguins_regression.csv\")\n",
    "data.head()"
   ]
  },
  {
   "cell_type": "markdown",
   "id": "c343c06d",
   "metadata": {},
   "source": [
    "In this dataset, we want to use a linear model that given the flipper length of a penguin, we predict the body mass of the penguin. First, let's have a look at the relationship between these two measurements."
   ]
  },
  {
   "cell_type": "code",
   "execution_count": null,
   "id": "a061fcd0",
   "metadata": {},
   "outputs": [],
   "source": [
    "import matplotlib.pyplot as plt\n",
    "\n",
    "_, ax = plt.subplots()\n",
    "ax.scatter(data[\"Flipper Length (mm)\"], data[\"Body Mass (g)\"])\n",
    "ax.set_xlabel(\"Flipper length (mm)\")\n",
    "ax.set_ylabel(\"Body mass (g)\")\n",
    "_ = ax.set_title(\n",
    "    \"Body mass of a penguin in function of its flipper length\"\n",
    ")"
   ]
  },
  {
   "cell_type": "markdown",
   "id": "55a7fdcd",
   "metadata": {},
   "source": [
    "We observe that we have a kind of linear relationship: longer is the flipper, heavier is the penguin. A linear model in this context, would be a function that is parametrized to provide a straight line. We can define a function for this purpose."
   ]
  },
  {
   "cell_type": "code",
   "execution_count": null,
   "id": "43922fa9",
   "metadata": {},
   "outputs": [],
   "source": [
    "def f(x, coef, intercept):\n",
    "    predictions = coef * x + intercept\n",
    "    return predictions"
   ]
  },
  {
   "cell_type": "markdown",
   "id": "ead5eef3",
   "metadata": {},
   "source": [
    "This function take as input `x` that corresponds to the flipper length and is then parametrize by `coef` and `intercep`. Those correspond to the $a_0$ and $a_1$ of the equation of the linear model given above.\n",
    "\n",
    "Let's make a try by defining a value for these two parameter and observe the resulting line on the plot."
   ]
  },
  {
   "cell_type": "code",
   "execution_count": null,
   "id": "2b163032",
   "metadata": {},
   "outputs": [],
   "source": [
    "intercept = 0\n",
    "coef = 20\n",
    "predicted_body_mass = f(data[\"Flipper Length (mm)\"], coef, intercept)"
   ]
  },
  {
   "cell_type": "code",
   "execution_count": null,
   "id": "12d8cb84",
   "metadata": {},
   "outputs": [],
   "source": [
    "_, ax = plt.subplots()\n",
    "ax.scatter(data[\"Flipper Length (mm)\"], data[\"Body Mass (g)\"])\n",
    "ax.plot(\n",
    "    data[\"Flipper Length (mm)\"],\n",
    "    predicted_body_mass,\n",
    "    linewidth=3,\n",
    "    color=\"tab:orange\",\n",
    "    label=\"Predictive model\",\n",
    ")\n",
    "ax.legend()\n",
    "ax.set_xlabel(\"Flipper length (mm)\")\n",
    "ax.set_ylabel(\"Body mass (g)\")\n",
    "_ = ax.set_title(\n",
    "    \"Body mass of a penguin in function of its flipper length\"\n",
    ")"
   ]
  },
  {
   "cell_type": "markdown",
   "id": "9e74e4b4",
   "metadata": {},
   "source": [
    "We just built our linear predictive model: passing a `x` value will provide us a body mass prediction.\n",
    "\n",
    "### Question\n",
    "\n",
    "- *Given this model, how would you quantified the quality of this predictive model?*\n",
    "- *Can you provide a set of parameters for which the predictions are more accurate?*"
   ]
  },
  {
   "cell_type": "code",
   "execution_count": null,
   "id": "c0739116",
   "metadata": {},
   "outputs": [],
   "source": [
    "import numpy as np\n",
    "\n",
    "\n",
    "def mean_absolute_error(y_true, y_pred):\n",
    "    return np.mean(np.abs(y_true - y_pred))\n",
    "\n",
    "\n",
    "mean_absolute_error(data[\"Body Mass (g)\"], predicted_body_mass)"
   ]
  },
  {
   "cell_type": "code",
   "execution_count": null,
   "id": "8f9c9e65",
   "metadata": {},
   "outputs": [],
   "source": [
    "def mean_squared_error(y_true, y_pred):\n",
    "    return np.mean((y_true - y_pred) ** 2)\n",
    "\n",
    "\n",
    "mean_squared_error(data[\"Body Mass (g)\"], predicted_body_mass)"
   ]
  },
  {
   "cell_type": "markdown",
   "id": "4f54f33d",
   "metadata": {},
   "source": [
    "## From manual to automatized model"
   ]
  },
  {
   "cell_type": "markdown",
   "id": "96516abe",
   "metadata": {},
   "source": [
    "In the previous exercise, we define some \"metric\" that define the quality of a predictive model. We could use such a metric to find the optimal predicitive model; the model for which the error is minimum. This metric is also known as **loss function**.\n",
    "\n",
    "A bit of numerical optimization and applied mathematics tell us that we can try to use gradient descent algorithm and mathematical derivative to find the minimum of the function. But we will just rely on SciPy that implement such algorithm for us. We need to modify a bit the previous error function:"
   ]
  },
  {
   "cell_type": "code",
   "execution_count": null,
   "id": "9a50eb8e",
   "metadata": {},
   "outputs": [],
   "source": [
    "def f_mean_squared_error(params, data):\n",
    "    y_pred = f(\n",
    "        data[\"Flipper Length (mm)\"],\n",
    "        coef=params[1],\n",
    "        intercept=params[0],\n",
    "    )\n",
    "    return mean_squared_error(data[\"Body Mass (g)\"], y_pred)"
   ]
  },
  {
   "cell_type": "code",
   "execution_count": null,
   "id": "57c06377",
   "metadata": {},
   "outputs": [],
   "source": [
    "from scipy.optimize import minimize\n",
    "\n",
    "results = minimize(\n",
    "    f_mean_squared_error, x0=(intercept, coef), args=data\n",
    ")\n",
    "results"
   ]
  },
  {
   "cell_type": "markdown",
   "id": "cb1ff62b",
   "metadata": {},
   "source": [
    "So the function `minimize` find a set of parameters with the lowest possible error. We can check the value of the intercept and coefficients."
   ]
  },
  {
   "cell_type": "code",
   "execution_count": null,
   "id": "d593e55b",
   "metadata": {},
   "outputs": [],
   "source": [
    "results.x"
   ]
  },
  {
   "cell_type": "markdown",
   "id": "dec92f53",
   "metadata": {},
   "source": [
    "Let's use these parameters to check visually what is the output of such parametric model."
   ]
  },
  {
   "cell_type": "code",
   "execution_count": null,
   "id": "58c28a1e",
   "metadata": {},
   "outputs": [],
   "source": [
    "_, ax = plt.subplots()\n",
    "ax.scatter(data[\"Flipper Length (mm)\"], data[\"Body Mass (g)\"])\n",
    "ax.plot(\n",
    "    data[\"Flipper Length (mm)\"],\n",
    "    f(data[\"Flipper Length (mm)\"], coef=results.x[1], intercept=results.x[0]),\n",
    "    linewidth=3,\n",
    "    color=\"tab:orange\",\n",
    "    label=\"Predictive model\",\n",
    ")\n",
    "ax.legend()\n",
    "ax.set_xlabel(\"Flipper length (mm)\")\n",
    "ax.set_ylabel(\"Body mass (g)\")\n",
    "_ = ax.set_title(\n",
    "    \"Body mass of a penguin in function of its flipper length\"\n",
    ")"
   ]
  },
  {
   "cell_type": "markdown",
   "id": "3316a32d",
   "metadata": {},
   "source": [
    "We see that this model is much better than our manually defined model. This model is the one minimizing the average of the squared errors.\n",
    "\n",
    "### Questions\n",
    "\n",
    "- *Use `sklearn.linear_model.LinearRegression` to `fit` a model.*\n",
    "- *By looking a the documentation, what are the value of the coefficients of the linear model?*\n",
    "- *Plot the predictions that you can obtain with `predict` as in the previous plot.*\n",
    "- *Use `sklearn.metrics.mean_squared_error` to compute the error of this model.*"
   ]
  },
  {
   "cell_type": "code",
   "execution_count": null,
   "id": "926ee07e",
   "metadata": {},
   "outputs": [],
   "source": [
    "from sklearn.linear_model import LinearRegression\n",
    "\n",
    "model = LinearRegression()\n",
    "model.fit(data[[\"Flipper Length (mm)\"]], data[\"Body Mass (g)\"])"
   ]
  },
  {
   "cell_type": "code",
   "execution_count": null,
   "id": "9d7132fd",
   "metadata": {},
   "outputs": [],
   "source": [
    "model.coef_, model.intercept_"
   ]
  },
  {
   "cell_type": "code",
   "execution_count": null,
   "id": "9eedf26a",
   "metadata": {},
   "outputs": [],
   "source": [
    "y_pred = model.predict(data[[\"Flipper Length (mm)\"]])"
   ]
  },
  {
   "cell_type": "code",
   "execution_count": null,
   "id": "baff97f8",
   "metadata": {},
   "outputs": [],
   "source": [
    "from sklearn.metrics import mean_squared_error\n",
    "\n",
    "mean_squared_error(data[\"Body Mass (g)\"], y_pred)"
   ]
  },
  {
   "cell_type": "code",
   "execution_count": null,
   "id": "481053af",
   "metadata": {},
   "outputs": [],
   "source": [
    "_, ax = plt.subplots()\n",
    "ax.scatter(data[\"Flipper Length (mm)\"], data[\"Body Mass (g)\"])\n",
    "ax.plot(\n",
    "    data[\"Flipper Length (mm)\"],\n",
    "    y_pred,\n",
    "    linewidth=3,\n",
    "    color=\"tab:orange\",\n",
    "    label=\"Predictive model\",\n",
    ")\n",
    "ax.legend()\n",
    "ax.set_xlabel(\"Flipper length (mm)\")\n",
    "ax.set_ylabel(\"Body mass (g)\")\n",
    "_ = ax.set_title(\n",
    "    \"Body mass of a penguin in function of its flipper length\"\n",
    ")"
   ]
  },
  {
   "cell_type": "markdown",
   "id": "02758596",
   "metadata": {},
   "source": [
    "## What about other loss functions?\n",
    "\n",
    "So `LinearRegression` minimized the mean squared error. But we might want to minize the absolute error instead. But first let's check what is the different between the squared error and absolute error."
   ]
  },
  {
   "cell_type": "code",
   "execution_count": null,
   "id": "65e58dab",
   "metadata": {},
   "outputs": [],
   "source": [
    "xx = np.linspace(-2, 2, num=100)\n",
    "\n",
    "plt.plot(xx, (xx - 0) ** 2, label=\"squared error\")\n",
    "plt.plot(xx, np.abs(xx - 0), label=\"absolute error\")\n",
    "plt.ylabel(\"Error\")\n",
    "_ = plt.legend()"
   ]
  },
  {
   "cell_type": "markdown",
   "id": "93126cdc",
   "metadata": {},
   "source": [
    "### Question\n",
    "\n",
    "- *What is the difference that you can observe between the two type of error?*\n",
    "- *What is the practical implications?*\n",
    "\n",
    "Let's go in a situation that a scientist made measurements of penguins but \"dg\" instead of \"g\". We will create a new dataframe containing the new measurements."
   ]
  },
  {
   "cell_type": "code",
   "execution_count": null,
   "id": "2765f424",
   "metadata": {},
   "outputs": [],
   "source": [
    "n_fake_penguins = 50\n",
    "fake_flipper_length = np.random.uniform(low=220, high=230, size=n_fake_penguins)\n",
    "fake_body_mass = np.random.uniform(low=550, high=650, size=n_fake_penguins)"
   ]
  },
  {
   "cell_type": "code",
   "execution_count": null,
   "id": "60629661",
   "metadata": {},
   "outputs": [],
   "source": [
    "new_data = pd.concat(\n",
    "    [\n",
    "        data,\n",
    "        pd.DataFrame({\n",
    "            \"Flipper Length (mm)\": fake_flipper_length,\n",
    "            \"Body Mass (g)\": fake_body_mass\n",
    "        })\n",
    "    ]\n",
    ")"
   ]
  },
  {
   "cell_type": "markdown",
   "id": "b6aa4ff2",
   "metadata": {},
   "source": [
    "We can quickly plot the dataset to have an idea on the impact of the error commited by the scientist."
   ]
  },
  {
   "cell_type": "code",
   "execution_count": null,
   "id": "6c662a66",
   "metadata": {},
   "outputs": [],
   "source": [
    "_ = new_data.plot.scatter(x=\"Flipper Length (mm)\", y=\"Body Mass (g)\")"
   ]
  },
  {
   "cell_type": "markdown",
   "id": "1d977da7",
   "metadata": {},
   "source": [
    "So we observe those new data samples that could be consider as \"ouliers\"."
   ]
  },
  {
   "cell_type": "code",
   "execution_count": null,
   "id": "1caff17c",
   "metadata": {},
   "outputs": [],
   "source": [
    "model = LinearRegression().fit(new_data[[\"Flipper Length (mm)\"]], new_data[\"Body Mass (g)\"])\n",
    "y_pred = model.predict(new_data[[\"Flipper Length (mm)\"]])"
   ]
  },
  {
   "cell_type": "code",
   "execution_count": null,
   "id": "f05fd2c8",
   "metadata": {},
   "outputs": [],
   "source": [
    "model.coef_, model.intercept_"
   ]
  },
  {
   "cell_type": "code",
   "execution_count": null,
   "id": "24c34104",
   "metadata": {},
   "outputs": [],
   "source": [
    "_, ax = plt.subplots()\n",
    "ax.scatter(new_data[\"Flipper Length (mm)\"], new_data[\"Body Mass (g)\"])\n",
    "ax.plot(\n",
    "    new_data[\"Flipper Length (mm)\"],\n",
    "    y_pred,\n",
    "    linewidth=3,\n",
    "    color=\"tab:orange\",\n",
    "    label=\"Predictive model\",\n",
    ")\n",
    "ax.legend()\n",
    "ax.set_xlabel(\"Flipper length (mm)\")\n",
    "ax.set_ylabel(\"Body mass (g)\")\n",
    "_ = ax.set_title(\n",
    "    \"Body mass of a penguin in function of its flipper length\"\n",
    ")"
   ]
  },
  {
   "cell_type": "code",
   "execution_count": null,
   "id": "7ed4cdd7",
   "metadata": {},
   "outputs": [],
   "source": [
    "from sklearn.linear_model import QuantileRegressor\n",
    "\n",
    "model = QuantileRegressor(solver=\"highs\").fit(new_data[[\"Flipper Length (mm)\"]], new_data[\"Body Mass (g)\"])\n",
    "y_pred = model.predict(new_data[[\"Flipper Length (mm)\"]])"
   ]
  },
  {
   "cell_type": "code",
   "execution_count": null,
   "id": "78547e9a",
   "metadata": {},
   "outputs": [],
   "source": [
    "_, ax = plt.subplots()\n",
    "ax.scatter(new_data[\"Flipper Length (mm)\"], new_data[\"Body Mass (g)\"])\n",
    "ax.plot(\n",
    "    new_data[\"Flipper Length (mm)\"],\n",
    "    y_pred,\n",
    "    linewidth=3,\n",
    "    color=\"tab:orange\",\n",
    "    label=\"Predictive model\",\n",
    ")\n",
    "ax.legend()\n",
    "ax.set_xlabel(\"Flipper length (mm)\")\n",
    "ax.set_ylabel(\"Body mass (g)\")\n",
    "_ = ax.set_title(\n",
    "    \"Body mass of a penguin in function of its flipper length\"\n",
    ")"
   ]
  },
  {
   "cell_type": "code",
   "execution_count": null,
   "id": "89a64f23",
   "metadata": {},
   "outputs": [],
   "source": [
    "model = QuantileRegressor(solver=\"highs\", quantile=0.1).fit(\n",
    "    new_data[[\"Flipper Length (mm)\"]], new_data[\"Body Mass (g)\"]\n",
    ")\n",
    "y_pred_10 = model.predict(new_data[[\"Flipper Length (mm)\"]])"
   ]
  },
  {
   "cell_type": "code",
   "execution_count": null,
   "id": "460da7ea",
   "metadata": {},
   "outputs": [],
   "source": [
    "model = QuantileRegressor(solver=\"highs\", quantile=0.9).fit(\n",
    "    new_data[[\"Flipper Length (mm)\"]], new_data[\"Body Mass (g)\"]\n",
    ")\n",
    "y_pred_90 = model.predict(new_data[[\"Flipper Length (mm)\"]])"
   ]
  },
  {
   "cell_type": "code",
   "execution_count": null,
   "id": "21efa14b",
   "metadata": {},
   "outputs": [],
   "source": [
    "_, ax = plt.subplots()\n",
    "ax.scatter(new_data[\"Flipper Length (mm)\"], new_data[\"Body Mass (g)\"])\n",
    "ax.plot(\n",
    "    new_data[\"Flipper Length (mm)\"],\n",
    "    y_pred,\n",
    "    linewidth=3,\n",
    "    color=\"tab:orange\",\n",
    "    label=\"quantile=0.5\",\n",
    ")\n",
    "ax.plot(\n",
    "    new_data[\"Flipper Length (mm)\"],\n",
    "    y_pred_10,\n",
    "    linewidth=3,\n",
    "    color=\"tab:green\",\n",
    "    label=\"quantile=0.1\",\n",
    ")\n",
    "ax.plot(\n",
    "    new_data[\"Flipper Length (mm)\"],\n",
    "    y_pred_90,\n",
    "    linewidth=3,\n",
    "    color=\"tab:red\",\n",
    "    label=\"quantile=0.9\",\n",
    ")\n",
    "ax.legend()\n",
    "ax.set_xlabel(\"Flipper length (mm)\")\n",
    "ax.set_ylabel(\"Body mass (g)\")\n",
    "_ = ax.set_title(\n",
    "    \"Body mass of a penguin in function of its flipper length\"\n",
    ")"
   ]
  },
  {
   "cell_type": "code",
   "execution_count": null,
   "id": "5d47fd75",
   "metadata": {},
   "outputs": [],
   "source": [
    "data[\"Flipper Width (mm)\"] = data[\"Flipper Length (mm)\"] / 10 + np.random.randn(len(data))\n",
    "data"
   ]
  },
  {
   "cell_type": "code",
   "execution_count": null,
   "id": "44a8b241",
   "metadata": {},
   "outputs": [],
   "source": [
    "fig = plt.figure()\n",
    "ax = fig.add_subplot(projection='3d')\n",
    "ax.scatter(\n",
    "    data[\"Flipper Length (mm)\"],\n",
    "    data[\"Flipper Width (mm)\"],\n",
    "    data[\"Body Mass (g)\"],\n",
    ")"
   ]
  },
  {
   "cell_type": "code",
   "execution_count": null,
   "id": "e127d6b6",
   "metadata": {},
   "outputs": [],
   "source": [
    "model = LinearRegression().fit(\n",
    "    data[[\"Flipper Length (mm)\", \"Flipper Width (mm)\"]],\n",
    "    data[\"Body Mass (g)\"],\n",
    ")"
   ]
  },
  {
   "cell_type": "code",
   "execution_count": null,
   "id": "252a9256",
   "metadata": {},
   "outputs": [],
   "source": [
    "model.coef_"
   ]
  },
  {
   "cell_type": "code",
   "execution_count": null,
   "id": "411a9d7c",
   "metadata": {},
   "outputs": [],
   "source": [
    "model.intercept_"
   ]
  },
  {
   "cell_type": "code",
   "execution_count": null,
   "id": "df4cff06",
   "metadata": {},
   "outputs": [],
   "source": [
    "xx, yy = np.meshgrid(\n",
    "    data[\"Flipper Length (mm)\"], data[\"Flipper Width (mm)\"]\n",
    ")"
   ]
  },
  {
   "cell_type": "code",
   "execution_count": null,
   "id": "37160937",
   "metadata": {},
   "outputs": [],
   "source": [
    "xx, yy"
   ]
  },
  {
   "cell_type": "code",
   "execution_count": null,
   "id": "231b4461",
   "metadata": {},
   "outputs": [],
   "source": [
    "y_pred = model.predict(np.vstack([xx.ravel(), yy.ravel()]).T)"
   ]
  },
  {
   "cell_type": "code",
   "execution_count": null,
   "id": "acc5ec22",
   "metadata": {},
   "outputs": [],
   "source": [
    "y_pred = y_pred.reshape(xx.shape)"
   ]
  },
  {
   "cell_type": "code",
   "execution_count": null,
   "id": "6f3424d4",
   "metadata": {},
   "outputs": [],
   "source": [
    "fig = plt.figure()\n",
    "ax = fig.add_subplot(projection='3d')\n",
    "ax.scatter(\n",
    "    data[\"Flipper Length (mm)\"],\n",
    "    data[\"Flipper Width (mm)\"],\n",
    "    data[\"Body Mass (g)\"],\n",
    ")\n",
    "ax.plot_surface(xx, yy, y_pred)"
   ]
  },
  {
   "cell_type": "code",
   "execution_count": null,
   "id": "cdd41d26",
   "metadata": {},
   "outputs": [],
   "source": [
    "n_samples = 200\n",
    "X = np.linspace(-5, 5, n_samples)\n",
    "y = X + 2 * np.cos(2 * np.pi * X) + 2 * np.random.rand(n_samples)\n",
    "X = X.reshape(-1, 1)"
   ]
  },
  {
   "cell_type": "code",
   "execution_count": null,
   "id": "521382ee",
   "metadata": {},
   "outputs": [],
   "source": [
    "plt.scatter(X, y)"
   ]
  },
  {
   "cell_type": "code",
   "execution_count": null,
   "id": "77a44d74",
   "metadata": {},
   "outputs": [],
   "source": [
    "model = LinearRegression().fit(X, y)"
   ]
  },
  {
   "cell_type": "code",
   "execution_count": null,
   "id": "90593382",
   "metadata": {},
   "outputs": [],
   "source": [
    "plt.scatter(X, y)\n",
    "plt.plot(X, model.predict(X), linewidth=3, color=\"tab:orange\")"
   ]
  },
  {
   "cell_type": "code",
   "execution_count": null,
   "id": "7f915ec5",
   "metadata": {},
   "outputs": [],
   "source": [
    "X = np.concatenate(\n",
    "    [X, np.cos(2 * np.pi* X)], axis=1\n",
    ")"
   ]
  },
  {
   "cell_type": "code",
   "execution_count": null,
   "id": "5ce8fe59",
   "metadata": {},
   "outputs": [],
   "source": [
    "model = LinearRegression().fit(X, y)\n",
    "plt.scatter(X[:, 0], y)\n",
    "plt.plot(X[:, 0], model.predict(X), linewidth=3, color=\"tab:orange\")"
   ]
  },
  {
   "cell_type": "code",
   "execution_count": null,
   "id": "f2b0afe0",
   "metadata": {},
   "outputs": [],
   "source": [
    "model.coef_"
   ]
  },
  {
   "cell_type": "code",
   "execution_count": null,
   "id": "e1eeb184",
   "metadata": {},
   "outputs": [],
   "source": [
    "for i in range(3, 1_000):\n",
    "    X = np.concatenate(\n",
    "        [X, np.cos(i * np.pi* X[:, [0]])], axis=1\n",
    "    )"
   ]
  },
  {
   "cell_type": "code",
   "execution_count": null,
   "id": "3c15b95d",
   "metadata": {},
   "outputs": [],
   "source": [
    "model = LinearRegression().fit(X, y)\n",
    "plt.scatter(X[:, 0], y)\n",
    "plt.plot(X[:, 0], model.predict(X), linewidth=3, color=\"tab:orange\")"
   ]
  },
  {
   "cell_type": "code",
   "execution_count": null,
   "id": "5eff6d6d",
   "metadata": {},
   "outputs": [],
   "source": [
    "from sklearn.linear_model import Ridge\n",
    "\n",
    "model = Ridge().fit(X, y)\n",
    "plt.scatter(X[:, 0], y)\n",
    "plt.plot(X[:, 0], model.predict(X), linewidth=3, color=\"tab:orange\")"
   ]
  },
  {
   "cell_type": "code",
   "execution_count": null,
   "id": "067e9fd9",
   "metadata": {},
   "outputs": [],
   "source": [
    "model = Ridge(alpha=1e3).fit(X, y)\n",
    "plt.scatter(X[:, 0], y)\n",
    "plt.plot(X[:, 0], model.predict(X), linewidth=3, color=\"tab:orange\")"
   ]
  },
  {
   "cell_type": "code",
   "execution_count": null,
   "id": "6b5fb7c4",
   "metadata": {},
   "outputs": [],
   "source": [
    "model = Ridge(alpha=1e-6).fit(X, y)\n",
    "plt.scatter(X[:, 0], y)\n",
    "plt.plot(X[:, 0], model.predict(X), linewidth=3, color=\"tab:orange\")"
   ]
  },
  {
   "cell_type": "code",
   "execution_count": null,
   "id": "6911548e",
   "metadata": {},
   "outputs": [],
   "source": [
    "from sklearn.linear_model import Lasso\n",
    "\n",
    "model = Lasso(alpha=1e-1).fit(X, y)\n",
    "plt.scatter(X[:, 0], y)\n",
    "plt.plot(X[:, 0], model.predict(X), linewidth=3, color=\"tab:orange\")"
   ]
  },
  {
   "cell_type": "code",
   "execution_count": null,
   "id": "5db8c106",
   "metadata": {},
   "outputs": [],
   "source": [
    "model.coef_"
   ]
  },
  {
   "cell_type": "code",
   "execution_count": null,
   "id": "40fc4391",
   "metadata": {},
   "outputs": [],
   "source": [
    "import pandas as pd\n",
    "\n",
    "data = pd.read_csv(\"datasets/penguins_classification.csv\")\n",
    "X = data[[\"Culmen Length (mm)\"]]\n",
    "y = (data[\"Species\"] == \"Adelie\").astype(int)"
   ]
  },
  {
   "cell_type": "code",
   "execution_count": null,
   "id": "76c260f9",
   "metadata": {},
   "outputs": [],
   "source": [
    "plt.scatter(X, y)\n",
    "plt.ylabel(\"Is Adelie penguin?\")\n",
    "plt.xlabel(\"Culmen Length (mm)\")"
   ]
  },
  {
   "cell_type": "code",
   "execution_count": null,
   "id": "7c8d2e54",
   "metadata": {},
   "outputs": [],
   "source": [
    "from sklearn.linear_model import LogisticRegression\n",
    "\n",
    "model = LogisticRegression().fit(X, y)\n",
    "y_pred = model.predict(X)"
   ]
  },
  {
   "cell_type": "code",
   "execution_count": null,
   "id": "0787e70e",
   "metadata": {},
   "outputs": [],
   "source": [
    "plt.scatter(X, y)\n",
    "plt.scatter(X, y_pred)\n",
    "plt.ylabel(\"Is Adelie penguin?\")\n",
    "plt.xlabel(\"Culmen Length (mm)\")"
   ]
  },
  {
   "cell_type": "code",
   "execution_count": null,
   "id": "e6918208",
   "metadata": {},
   "outputs": [],
   "source": [
    "y_proba = model.predict_proba(X)\n",
    "y_proba[:5]"
   ]
  },
  {
   "cell_type": "code",
   "execution_count": null,
   "id": "79b469f1",
   "metadata": {},
   "outputs": [],
   "source": [
    "plt.scatter(X, y)\n",
    "plt.scatter(X, y_proba[:, 1])\n",
    "plt.ylabel(\"Is Adelie penguin?\")\n",
    "plt.xlabel(\"Culmen Length (mm)\")"
   ]
  },
  {
   "cell_type": "code",
   "execution_count": null,
   "id": "6a7b2651",
   "metadata": {},
   "outputs": [],
   "source": [
    "from sklearn.datasets import load_iris\n",
    "\n",
    "X, y = load_iris(return_X_y=True)\n",
    "model = LogisticRegression().fit(X, y)"
   ]
  },
  {
   "cell_type": "code",
   "execution_count": null,
   "id": "17ce9d2a",
   "metadata": {},
   "outputs": [],
   "source": [
    "model.n_iter_"
   ]
  },
  {
   "cell_type": "code",
   "execution_count": null,
   "id": "5ac24d5c",
   "metadata": {},
   "outputs": [],
   "source": [
    "model = LogisticRegression(max_iter=1_000).fit(X, y)"
   ]
  },
  {
   "cell_type": "code",
   "execution_count": null,
   "id": "df77679f",
   "metadata": {},
   "outputs": [],
   "source": [
    "model.n_iter_"
   ]
  },
  {
   "cell_type": "code",
   "execution_count": null,
   "id": "ef546023",
   "metadata": {},
   "outputs": [],
   "source": [
    "X.mean(axis=0)"
   ]
  },
  {
   "cell_type": "code",
   "execution_count": null,
   "id": "86fb3c6e",
   "metadata": {},
   "outputs": [],
   "source": [
    "X.std(axis=0)"
   ]
  },
  {
   "cell_type": "code",
   "execution_count": null,
   "id": "9f72b4e9",
   "metadata": {},
   "outputs": [],
   "source": [
    "X_normalize = (X - X.mean(axis=0)) / X.std(axis=0)"
   ]
  },
  {
   "cell_type": "code",
   "execution_count": null,
   "id": "9c8bf299",
   "metadata": {},
   "outputs": [],
   "source": [
    "model.fit(X_normalize, y)"
   ]
  },
  {
   "cell_type": "code",
   "execution_count": null,
   "id": "9a881ee2",
   "metadata": {},
   "outputs": [],
   "source": [
    "model.n_iter_"
   ]
  },
  {
   "cell_type": "code",
   "execution_count": null,
   "id": "83a522bb",
   "metadata": {},
   "outputs": [],
   "source": [
    "from sklearn.preprocessing import StandardScaler\n",
    "\n",
    "scaler = StandardScaler().fit(X)"
   ]
  },
  {
   "cell_type": "code",
   "execution_count": null,
   "id": "a936a3c2",
   "metadata": {},
   "outputs": [],
   "source": [
    "scaler.mean_"
   ]
  },
  {
   "cell_type": "code",
   "execution_count": null,
   "id": "5c92e94d",
   "metadata": {},
   "outputs": [],
   "source": [
    "scaler.scale_"
   ]
  },
  {
   "cell_type": "code",
   "execution_count": null,
   "id": "7f50bd09",
   "metadata": {},
   "outputs": [],
   "source": [
    "scaler.transform(X)[:5]"
   ]
  },
  {
   "cell_type": "code",
   "execution_count": null,
   "id": "cda65dc9",
   "metadata": {},
   "outputs": [],
   "source": [
    "from sklearn.model_selection import train_test_split\n",
    "\n",
    "X_train, X_test, y_train, y_test = train_test_split(\n",
    "    X, y, random_state=0\n",
    ")"
   ]
  },
  {
   "cell_type": "code",
   "execution_count": null,
   "id": "cb403f44",
   "metadata": {},
   "outputs": [],
   "source": [
    "scaler.fit(X_train)\n",
    "X_train_normalize = scaler.transform(X_train)"
   ]
  },
  {
   "cell_type": "code",
   "execution_count": null,
   "id": "cc046d4e",
   "metadata": {},
   "outputs": [],
   "source": [
    "X_test_normalize = scaler.transform(X_test)"
   ]
  },
  {
   "cell_type": "code",
   "execution_count": null,
   "id": "440824d0",
   "metadata": {},
   "outputs": [],
   "source": [
    "model.fit(X_train_normalize, y_train)"
   ]
  },
  {
   "cell_type": "code",
   "execution_count": null,
   "id": "3bafc2d7",
   "metadata": {},
   "outputs": [],
   "source": [
    "from sklearn.metrics import accuracy_score\n",
    "\n",
    "accuracy_score(y_test, model.predict(X_test_normalize))"
   ]
  },
  {
   "cell_type": "code",
   "execution_count": null,
   "id": "1d0c6037",
   "metadata": {},
   "outputs": [],
   "source": [
    "from sklearn.pipeline import Pipeline\n",
    "\n",
    "model = Pipeline(\n",
    "    steps=[\n",
    "        (\"scaler\", StandardScaler()),\n",
    "        (\"linear_model\", LogisticRegression()),\n",
    "    ]\n",
    ")\n",
    "model"
   ]
  },
  {
   "cell_type": "code",
   "execution_count": null,
   "id": "5c391ae6",
   "metadata": {},
   "outputs": [],
   "source": [
    "model.fit(X_train, y_train)\n",
    "y_pred = model.predict(X_test)\n",
    "accuracy_score(y_test, y_pred)"
   ]
  },
  {
   "cell_type": "code",
   "execution_count": null,
   "id": "25af76c3",
   "metadata": {},
   "outputs": [],
   "source": [
    "data = pd.read_csv(\"datasets/adult-census.csv\")"
   ]
  },
  {
   "cell_type": "code",
   "execution_count": null,
   "id": "d5dfc332",
   "metadata": {},
   "outputs": [],
   "source": [
    "X = data.drop(columns=[\"class\"])\n",
    "y = data[\"class\"]"
   ]
  },
  {
   "cell_type": "code",
   "execution_count": null,
   "id": "b0ac5fa3",
   "metadata": {},
   "outputs": [],
   "source": [
    "X_train, X_test, y_train, y_test = train_test_split(\n",
    "    X, y, random_state=0\n",
    ")"
   ]
  },
  {
   "cell_type": "code",
   "execution_count": null,
   "id": "56b94c2e",
   "metadata": {},
   "outputs": [],
   "source": [
    "model = LogisticRegression().fit(X_train, y_train)"
   ]
  },
  {
   "cell_type": "code",
   "execution_count": null,
   "id": "dfedf231",
   "metadata": {},
   "outputs": [],
   "source": [
    "X"
   ]
  },
  {
   "cell_type": "code",
   "execution_count": null,
   "id": "dd894c20",
   "metadata": {},
   "outputs": [],
   "source": [
    "X.info()"
   ]
  },
  {
   "cell_type": "code",
   "execution_count": null,
   "id": "a31791c4",
   "metadata": {},
   "outputs": [],
   "source": [
    "categorical_features = [\n",
    "    \"workclass\",\n",
    "    \"education\",\n",
    "    \"marital-status\",\n",
    "    \"occupation\",\n",
    "    \"relationship\",\n",
    "    \"race\",\n",
    "    \"sex\",\n",
    "    \"native-country\",\n",
    "]"
   ]
  },
  {
   "cell_type": "code",
   "execution_count": null,
   "id": "005a7c9f",
   "metadata": {},
   "outputs": [],
   "source": [
    "X[categorical_features]"
   ]
  },
  {
   "cell_type": "code",
   "execution_count": null,
   "id": "9085af0b",
   "metadata": {},
   "outputs": [],
   "source": [
    "from sklearn.preprocessing import OrdinalEncoder\n",
    "\n",
    "encoder = OrdinalEncoder().fit(X[categorical_features])\n",
    "encoder.categories_"
   ]
  },
  {
   "cell_type": "code",
   "execution_count": null,
   "id": "0312b7fd",
   "metadata": {},
   "outputs": [],
   "source": [
    "encoder.transform(X[categorical_features])"
   ]
  },
  {
   "cell_type": "code",
   "execution_count": null,
   "id": "a1daafb3",
   "metadata": {},
   "outputs": [],
   "source": [
    "from sklearn.preprocessing import OneHotEncoder\n",
    "\n",
    "encoder = OneHotEncoder(sparse_output=False)\n",
    "encoder.fit(X[categorical_features])\n",
    "encoder.transform(X[categorical_features])"
   ]
  },
  {
   "cell_type": "code",
   "execution_count": null,
   "id": "d751ddb2",
   "metadata": {},
   "outputs": [],
   "source": [
    "from sklearn.compose import ColumnTransformer\n",
    "\n",
    "numerical_column = [\n",
    "    \"age\", \"capital-gain\", \"capital-loss\", \"hours-per-week\"\n",
    "]\n",
    "preprocessor = ColumnTransformer(\n",
    "    transformers=[\n",
    "        (\"cat_preprocessor\", OneHotEncoder(), categorical_features),\n",
    "        (\"num_preprocessor\", StandardScaler(), numerical_column)\n",
    "    ]\n",
    ")\n",
    "model = Pipeline(steps=[\n",
    "    (\"preprocessor\", preprocessor),\n",
    "    (\"linear_model\", LogisticRegression(max_iter=1_000)),\n",
    "])"
   ]
  },
  {
   "cell_type": "code",
   "execution_count": null,
   "id": "8998c325",
   "metadata": {},
   "outputs": [],
   "source": [
    "model.fit(X_train, y_train)"
   ]
  },
  {
   "cell_type": "code",
   "execution_count": null,
   "id": "cb646b26",
   "metadata": {},
   "outputs": [],
   "source": [
    "y_pred = model.predict(X_test)\n",
    "accuracy_score(y_test, y_pred)"
   ]
  },
  {
   "cell_type": "code",
   "execution_count": null,
   "id": "944a950a",
   "metadata": {},
   "outputs": [],
   "source": []
  }
 ],
 "metadata": {
  "kernelspec": {
   "display_name": "Python 3 (ipykernel)",
   "language": "python",
   "name": "python3"
  },
  "language_info": {
   "codemirror_mode": {
    "name": "ipython",
    "version": 3
   },
   "file_extension": ".py",
   "mimetype": "text/x-python",
   "name": "python",
   "nbconvert_exporter": "python",
   "pygments_lexer": "ipython3",
   "version": "3.11.3"
  }
 },
 "nbformat": 4,
 "nbformat_minor": 5
}
